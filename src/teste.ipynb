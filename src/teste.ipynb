version https://git-lfs.github.com/spec/v1
oid sha256:44b8e002806e1b6fe9ff7b322c24367ea72b5679fc492437d08ca5ac6ffa2be8
size 7843
