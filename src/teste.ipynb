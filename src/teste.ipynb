{
 "cells": [
  {
   "cell_type": "code",
   "execution_count": 3,
   "metadata": {},
   "outputs": [],
   "source": [
    "import pandas as pd\n",
    "import requests\n",
    "from api import BetsAPIClient\n",
    "from dotenv import load_dotenv\n",
    "import os\n",
    "from datetime import datetime"
   ]
  },
  {
   "cell_type": "code",
   "execution_count": 5,
   "metadata": {},
   "outputs": [],
   "source": [
    "\n",
    "#'10048705', 'Esoccer GT Leagues - 12 mins play' ;'10047781', 'Esoccer Battle - 8 mins play'\n",
    "\n",
    "#testar pegar evento 171732570 mais tarde   171790606  172006772 9723272 172006783\n",
    "load_dotenv()\n",
    "\n",
    "api = os.getenv(\"API_KEY\")\n",
    "\n",
    "\n",
    "\n",
    "apiclient = BetsAPIClient(api_key=api)\n",
    "\n",
    "\n",
    "ids, dicio = apiclient.getAllOlds(leagues=apiclient.leagues_ids, day=20250326)\n",
    "\n",
    "\n",
    "\n",
    "\n"
   ]
  },
  {
   "cell_type": "code",
   "execution_count": null,
   "metadata": {},
   "outputs": [
    {
     "name": "stdout",
     "output_type": "stream",
     "text": [
      "\u001b[31mOdds não encontradas para o evento 171948262\u001b[0m\n",
      "\u001b[31mOdds não encontradas para o evento 171948268\u001b[0m\n",
      "\u001b[31mOdds não encontradas para o evento 171959416\u001b[0m\n",
      "\u001b[31mOdds não encontradas para o evento 171959496\u001b[0m\n",
      "\u001b[31mOdds não encontradas para o evento 171959506\u001b[0m\n",
      "\u001b[31mOdds não encontradas para o evento 172006504\u001b[0m\n",
      "\u001b[31mOdds não encontradas para o evento 172006508\u001b[0m\n",
      "\u001b[31mOdds não encontradas para o evento 172006688\u001b[0m\n",
      "\u001b[31mOdds não encontradas para o evento 171949788\u001b[0m\n",
      "\u001b[31mOdds não encontradas para o evento 171949791\u001b[0m\n",
      "\u001b[31mOdds não encontradas para o evento 171964884\u001b[0m\n",
      "\u001b[31mOdds não encontradas para o evento 171964972\u001b[0m\n",
      "\u001b[31mOdds não encontradas para o evento 171964997\u001b[0m\n",
      "\u001b[31mOdds não encontradas para o evento 171965005\u001b[0m\n",
      "\u001b[31mOdds não encontradas para o evento 171965328\u001b[0m\n",
      "\u001b[31mOdds não encontradas para o evento 171965330\u001b[0m\n",
      "\u001b[31mOdds não encontradas para o evento 171965425\u001b[0m\n",
      "\u001b[31mOdds não encontradas para o evento 171965345\u001b[0m\n",
      "\u001b[31mOdds não encontradas para o evento 171965350\u001b[0m\n",
      "\u001b[31mOdds não encontradas para o evento 172007429\u001b[0m\n",
      "\u001b[31mOdds não encontradas para o evento 172007433\u001b[0m\n"
     ]
    }
   ],
   "source": [
    "r = apiclient.filtraOddsOlds(ids=ids)"
   ]
  },
  {
   "cell_type": "code",
   "execution_count": null,
   "metadata": {},
   "outputs": [],
   "source": [
    "\n",
    "'''\n",
    "final_dict = {}\n",
    "\n",
    "\n",
    "for reg in r.keys():\n",
    "    if reg in dicio.keys():\n",
    "        final_dict[reg] = {**dicio[reg], **r[reg]}  # Mescla os dicionários sem as chaves intermediárias\n",
    "\n",
    "print(final_dict)\n",
    "# Converte o dicionário para um DataFrame\n",
    "df = pd.DataFrame.from_dict(final_dict, orient='index')\n",
    "\n",
    "# Exibe as primeiras linhas do DataFrame\n",
    "print(df.head())\n",
    "\n",
    "\n",
    "\n",
    "'''"
   ]
  }
 ],
 "metadata": {
  "kernelspec": {
   "display_name": "venv",
   "language": "python",
   "name": "python3"
  },
  "language_info": {
   "codemirror_mode": {
    "name": "ipython",
    "version": 3
   },
   "file_extension": ".py",
   "mimetype": "text/x-python",
   "name": "python",
   "nbconvert_exporter": "python",
   "pygments_lexer": "ipython3",
   "version": "3.9.5"
  }
 },
 "nbformat": 4,
 "nbformat_minor": 2
}
