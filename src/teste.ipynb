version https://git-lfs.github.com/spec/v1
oid sha256:8adcaa9a1996df8c33960a3ea575e92a59e8d9f9307effac1406b8ca4fb4d3de
size 10837
