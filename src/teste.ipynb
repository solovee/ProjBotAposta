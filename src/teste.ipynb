version https://git-lfs.github.com/spec/v1
oid sha256:368397311d2d693e5875f46794d688c17a87a1cff95ea482dfff7f3a6a4e03ac
size 26415
