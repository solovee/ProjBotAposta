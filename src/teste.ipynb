version https://git-lfs.github.com/spec/v1
oid sha256:9249bdf7d30fd8d7e9ffe72241c24e8c49e9536b41233b64784b16a39b0836dc
size 200543
