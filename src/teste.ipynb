version https://git-lfs.github.com/spec/v1
oid sha256:a438103e952b5bfc09e4bdbceb66283409f2719d04380fc47c9c282c2a70c4b5
size 7643
