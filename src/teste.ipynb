version https://git-lfs.github.com/spec/v1
oid sha256:89b5db6347175640b136deede6859f744222a6b420258e859afbbb9be4efcdf2
size 44077
