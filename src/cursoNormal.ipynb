version https://git-lfs.github.com/spec/v1
oid sha256:89660cdfa6e2779f05cad01f3df1c999c9e37cff5c44ededda5db523c1048886
size 63975
