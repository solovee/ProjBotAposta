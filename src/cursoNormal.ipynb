version https://git-lfs.github.com/spec/v1
oid sha256:ee8986c72ba258524bc01474e46ed374c863317b5ffbb4c71132fcb3d633f6dc
size 14846
