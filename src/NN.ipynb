version https://git-lfs.github.com/spec/v1
oid sha256:98e455beae8d89d0a1d0fe64e723428e76dff3d37354eafd523d701372ff1a1f
size 84657
