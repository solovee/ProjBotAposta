version https://git-lfs.github.com/spec/v1
oid sha256:6ac027a0483b4eeead6b40630835953eb36519938ba4307b4b198b76c7f1c5f6
size 398381
